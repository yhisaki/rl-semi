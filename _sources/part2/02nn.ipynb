{
 "cells": [
  {
   "cell_type": "markdown",
   "metadata": {},
   "source": [
    "# ニューラルネットワーク\n",
    "\n",
    "本章では，DDPGの関数近似で用いられるニューラルネットワークの詳細やPythonプログラムでの扱い方を紹介します．\n",
    "\n",
    "\n",
    "## 基本的な構造\n",
    "\n",
    "DDPGなどの強化学習では，一般的に非常にシンプルなニューラルネットワークネットワークが用いられます．\n",
    "ニューラルネットワークでは，関数への入力$x$に対して，層と呼ばれる関数の構造を複数回適用します．\n",
    "\n",
    "以下，入力を$x \\in \\mathbb{R}^n$，出力を$y \\in \\mathbb{R}^m$とする，\n",
    "単層のニューラルネットワークの式を示します．\n",
    "\n",
    "$$\n",
    "y = g(xW+b),\\ W \\in \\mathbb{R}^{n \\times m}, b \\in \\mathbb{R}^{1 \\times m}\n",
    "$$\n",
    "\n",
    "ここで関数$g:\\mathbb{R} \\rightarrow \\mathbb{R}$は **活性化関数** と呼ばれる非線形関数であり，\n",
    "引数がベクトルや行列の際は各要素ごとに適用されます．\n",
    "\n",
    "また，2層ニューラルネットワークは，以下の式で表されます．\n",
    "\n",
    "$$\n",
    "h = g^{(0)}(xW^{(0)}+b^{(0)}),\\\\\n",
    "y = g^{(1)}(hW^{(1)}+b^{(1)}).\n",
    "$$\n",
    "\n",
    "これらを繰り返すことにより，多層ニューラルネットワークを構成することが出来ます．\n",
    "多層ニューラルネットワークにおいては，\n",
    "入力に近い層を **入力層** ，\n",
    "出力に近い層を **出力層** ，\n",
    "中間的な層を **中間層** と呼びます．\n",
    "\n",
    "ニューラルネットワークは様々な関数を近似する表現能力を有しています．\n",
    "\n",
    "## ニューラルネットワークの最適化\n",
    "\n",
    "ニューラルネットワークで構成された関数$y=f(x;\\omega)$を考えます．\n",
    "ここで$x$は入力で$y$は出力，$\\omega$はパラメータを表します．\n",
    "このニューラルネットワークに対して，何かしらの損失関数というものを考えます．\n",
    "例えば，$y=f(x;\\omega)$で$\\mathcal{D} = \\{(\\hat{x}_0,\\hat{y}_0),(\\hat{x}_1,\\hat{y}_1),\\cdots,(\\hat{x}_k,\\hat{y}_k)\\}$\n",
    "というデータを近似したいと考えると，以下のような損失関数を考えることが出来ます．\n",
    "\n",
    "$$\n",
    "L(\\omega;\\mathcal{D}) = \\frac{1}{|\\mathcal{D}|} \\sum_{n=0} \\left( \\hat{y}_n - f(\\hat{x}_n;\\omega) \\right)^2\n",
    "$$ (nn_loss)\n",
    "\n",
    "また，損失関数のパラメータ$\\omega$に対する勾配$\\nabla_\\omega L(\\omega;\\mathcal{D})$が分かれば，\n",
    "勾配ベースの手法により，この関数を最小化することができます．\n",
    "\n",
    "ここでは，詳細は説明しませんが，\n",
    "ニューラルネットワークフレームワークと呼ばれる，ニューラルネットワークを扱うプログラムの多くは，\n",
    "**自動微分(Automatic Differentiation)** と呼ばれる機能を提供しています．\n",
    "これを用いるとプログラムで構成された式(例えば式{eq}`nn_loss`など)に対する勾配を自動的に計算できます．\n",
    "\n",
    "また，それら勾配を用いて勾配ベースの手法により，\n",
    "損失関数を最適化するツールも提供されています．\n",
    "\n",
    "## 実装\n",
    "\n",
    "本節では，実際にニューラルネットワークの一種である **PyTorch** を用いて，\n",
    "\n",
    "1. ニューラルネットワークを構成\n",
    "2. 損失関数を設定\n",
    "3. 損失関数の最小化\n",
    "\n",
    "という流れの実装を行っていきます．"
   ]
  },
  {
   "cell_type": "code",
   "execution_count": 28,
   "metadata": {},
   "outputs": [],
   "source": [
    "import torch\n",
    "from torch import nn\n",
    "from torch import optim\n",
    "import torch.nn.functional as F\n",
    "import matplotlib.pyplot as plt"
   ]
  },
  {
   "cell_type": "markdown",
   "metadata": {},
   "source": [
    "本節では，入力/出力ともに1次元の，3層のニューラルネットワークを構成してみます．\n",
    "ネットワークを式で表すと以下のようになります．\n",
    "\n",
    "$$\n",
    "h^{(0)} &= \\text{ReLU}(xW^{(0)}+b^{(0)}),\\\\\n",
    "h^{(1)} &= \\text{ReLU}(h^{(0)}W^{(1)}+b^{(1)}),\\\\\n",
    "y &= h^{(1)}W^{(2)}+b^{(2)}.\n",
    "$$\n",
    "\n",
    "各パラメータの次元は以下のようになります．\n",
    "\n",
    "$$\n",
    "&W^{(0)} \\in \\mathbb{R}^{1 \\times 256}, b^{(0)} \\in  \\mathbb{R}^{256}, h^{(0)} \\in \\mathbb{R}^{256} \\\\\n",
    "&W^{(0)} \\in \\mathbb{R}^{256 \\times 256}, b^{(0)} \\in  \\mathbb{R}^{256}, h^{(0)} \\in \\mathbb{R}^{256} \\\\\n",
    "&W^{(0)} \\in \\mathbb{R}^{256 \\times 1}, b^{(0)} \\in  \\mathbb{R}^{1}, h^{(0)} \\in \\mathbb{R}^{1}\n",
    "$$\n",
    "\n",
    "ここで，$\\text{ReLU}(\\cdot)$は，活性化関数であり，入力と出力の関係は以下グラフのようになります．"
   ]
  },
  {
   "cell_type": "code",
   "execution_count": 29,
   "metadata": {},
   "outputs": [
    {
     "data": {
      "image/png": "[encoded data removed]",
      "text/plain": [
       "<Figure size 432x288 with 1 Axes>"
      ]
     },
     "metadata": {
      "needs_background": "light"
     },
     "output_type": "display_data"
    }
   ],
   "source": [
    "x = torch.arange(-1, 1, 0.01)\n",
    "y = F.relu(x)\n",
    "plt.plot(x, y)\n",
    "plt.show()\n"
   ]
  },
  {
   "cell_type": "markdown",
   "metadata": {},
   "source": [
    "このネットワークをクラスで実装すると以下のようになります．"
   ]
  },
  {
   "cell_type": "code",
   "execution_count": 30,
   "metadata": {},
   "outputs": [
    {
     "name": "stdout",
     "output_type": "stream",
     "text": [
      "Network(\n",
      "  (linear0): Linear(in_features=1, out_features=256, bias=True)\n",
      "  (relu0): ReLU()\n",
      "  (linear1): Linear(in_features=256, out_features=256, bias=True)\n",
      "  (relu1): ReLU()\n",
      "  (linear2): Linear(in_features=256, out_features=1, bias=True)\n",
      ")\n"
     ]
    }
   ],
   "source": [
    "class Network(nn.Module):  ## nn.Moduleを継承\n",
    "    def __init__(self) -> None:\n",
    "        super().__init__()\n",
    "        # 各層を初期化\n",
    "        self.linear0 = nn.Linear(1, 256)\n",
    "        self.relu0 = nn.ReLU()\n",
    "        self.linear1 = nn.Linear(256, 256)\n",
    "        self.relu1 = nn.ReLU()\n",
    "        self.linear2 = nn.Linear(256, 1)\n",
    "\n",
    "    def forward(self, x):\n",
    "        \"\"\"入力から出力を計算する関数\"\"\"\n",
    "        h0 = self.relu0(self.linear0(x))  # 入力層\n",
    "        h1 = self.relu1(self.linear1(h0))  # 中間層\n",
    "        y = self.linear2(h1)  # 出力層\n",
    "        return y\n",
    "\n",
    "\n",
    "f = Network()\n",
    "print(f)\n"
   ]
  },
  {
   "cell_type": "markdown",
   "metadata": {},
   "source": [
    "このネットワークをプロット$x \\in [-\\pi,\\pi]$の範囲すると，以下のようになります．"
   ]
  },
  {
   "cell_type": "code",
   "execution_count": 31,
   "metadata": {},
   "outputs": [
    {
     "data": {
      "image/png": "[encoded data removed]",
      "text/plain": [
       "<Figure size 432x288 with 1 Axes>"
      ]
     },
     "metadata": {
      "needs_background": "light"
     },
     "output_type": "display_data"
    }
   ],
   "source": [
    "x = torch.arange(-torch.pi, torch.pi, 0.01)[..., None]\n",
    "y = f(x)\n",
    "plt.plot(x.detach().numpy(), y.detach().numpy())\n",
    "plt.show()\n"
   ]
  },
  {
   "cell_type": "markdown",
   "metadata": {},
   "source": [
    "この関数を\n",
    "\n",
    "$$y = sin(x)$$\n",
    "\n",
    "にフィッティングすることを考えます．\n",
    "\n",
    "教師データを 20 個生成し，それに対する平均二乗和誤差を計算する関数を実装します．\n"
   ]
  },
  {
   "cell_type": "code",
   "execution_count": 32,
   "metadata": {},
   "outputs": [
    {
     "data": {
      "image/png": "[encoded data removed]",
      "text/plain": [
       "<Figure size 432x288 with 1 Axes>"
      ]
     },
     "metadata": {
      "needs_background": "light"
     },
     "output_type": "display_data"
    }
   ],
   "source": [
    "# 教師データを生成\n",
    "x_t = torch.linspace(-torch.pi, torch.pi, 20)[..., None]\n",
    "y_t = torch.sin(x_t)\n",
    "\n",
    "plt.scatter(x_t, y_t, color=\"red\")\n",
    "plt.show()\n"
   ]
  },
  {
   "cell_type": "code",
   "execution_count": 33,
   "metadata": {},
   "outputs": [
    {
     "name": "stdout",
     "output_type": "stream",
     "text": [
      "tensor(0.5868, grad_fn=<MseLossBackward0>)\n"
     ]
    }
   ],
   "source": [
    "# 損失関数を計算\n",
    "def compute_loss(f: Network):\n",
    "    # yの予測値を計算\n",
    "    y_pred = f(x_t)\n",
    "\n",
    "    # 平均二乗和誤差を計算\n",
    "    loss = F.mse_loss(y_pred, y_t)\n",
    "    return loss\n",
    "\n",
    "\n",
    "print(compute_loss(f))\n"
   ]
  },
  {
   "cell_type": "markdown",
   "metadata": {},
   "source": [
    "最適化器を用意します．\n",
    "本稿では強化学習でよく用いられる Adam という最適化手法を用います．\n"
   ]
  },
  {
   "cell_type": "code",
   "execution_count": 34,
   "metadata": {},
   "outputs": [],
   "source": [
    "optimizer = optim.Adam(f.parameters(), lr=1e-3)  # 引数に最適化対象のパラメータと学習率を与える\n"
   ]
  },
  {
   "cell_type": "markdown",
   "metadata": {},
   "source": [
    "それでは，これらを用いて，100ステップ最適化を行います．"
   ]
  },
  {
   "cell_type": "code",
   "execution_count": 35,
   "metadata": {},
   "outputs": [],
   "source": [
    "for i in range(100):\n",
    "    loss = compute_loss(f)  # 損失を計算\n",
    "    optimizer.zero_grad()  # 保存されている勾配情報を初期化\n",
    "    loss.backward()  # 損失のパラメータに対する勾配を計算\n",
    "    optimizer.step()  # 1ステップ最適化する\n"
   ]
  },
  {
   "cell_type": "markdown",
   "metadata": {},
   "source": [
    "結果をプロットすると以下のようになります．\n"
   ]
  },
  {
   "cell_type": "code",
   "execution_count": 36,
   "metadata": {},
   "outputs": [
    {
     "data": {
      "image/png": "[encoded data removed]",
      "text/plain": [
       "<Figure size 432x288 with 1 Axes>"
      ]
     },
     "metadata": {
      "needs_background": "light"
     },
     "output_type": "display_data"
    }
   ],
   "source": [
    "x = torch.arange(-torch.pi, torch.pi, 0.01)[..., None]\n",
    "y = f(x)\n",
    "plt.plot(x.detach().numpy(), y.detach().numpy())\n",
    "plt.scatter(x_t, y_t, color=\"red\")\n",
    "plt.show()\n"
   ]
  }
 ],
 "metadata": {
  "interpreter": {
   "hash": "97504645a1f23459c17c212274a0bcf9c19874fbce259200e47a4c8c54b7985d"
  },
  "kernelspec": {
   "display_name": "Python 3.8.10 ('.venv': venv)",
   "language": "python",
   "name": "python3"
  },
  "language_info": {
   "codemirror_mode": {
    "name": "ipython",
    "version": 3
   },
   "file_extension": ".py",
   "mimetype": "text/x-python",
   "name": "python",
   "nbconvert_exporter": "python",
   "pygments_lexer": "ipython3",
   "version": "3.8.10"
  },
  "orig_nbformat": 4
 },
 "nbformat": 4,
 "nbformat_minor": 2
}
