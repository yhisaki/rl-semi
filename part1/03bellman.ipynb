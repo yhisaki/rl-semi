{
 "cells": [
  {
   "attachments": {},
   "cell_type": "markdown",
   "metadata": {},
   "source": [
    "# ベルマン方程式\n",
    "\n",
    "```{math}\n",
    "\\DeclareMathOperator*{\\argmax}{arg\\,max}\n",
    "\\newcommand{\\E}{{\\mathrm E}}\n",
    "\\newcommand{\\underE}[2]{\\underset{\\begin{subarray}{c}#1 \\end{subarray}}{\\E}\\left[ #2 \\right]}\n",
    "\\newcommand{\\Epi}[1]{\\underset{\\begin{subarray}{c}\\tau \\sim \\pi \\end{subarray}}{\\E}\\left[ #1 \\right]}\n",
    "```\n",
    "\n",
    "本章では，価値関数/行動価値関数が満たす再帰的な性質を基にした **ベルマン方程式(Bellman equation)** を紹介します．\n",
    "この方程式は，現在の状態$s$の価値$V(s)$と次の状態$s'$の価値$V(s')$の関係に着目することにより得られる方程式で，\n",
    "様々な強化学習アルゴリズムで利用されています．\n",
    "\n",
    "## ベルマン方程式\n",
    "\n",
    "価値関数の定義式{eq}`vpi difinition`と$G_t$に関する再帰的な式{eq}`g_t recursion`より以下のような式変形が行えます．\n",
    "\n",
    "$$\n",
    "V^\\pi(s) &= \\underE{\\pi}{G_t | S_t = s}\\\\\n",
    "&= \\underE{\\pi}{R_t + \\gamma G_{t+1} | S_t = s}\\\\\n",
    "&= \\sum_{a \\in \\mathcal{A}} \\pi(a|s) \\left(r(s, a) + \\gamma  \\sum_{s' \\in \\mathcal{S}}  p(s'|s,a) \\underE{\\pi}{ G_{t+1} | S_{t+1} = s' }\\right)\\\\\n",
    "&= \\sum_{a \\in \\mathcal{A}} \\pi(a|s) \\left( r(s,a) + \\gamma \\sum_{s' \\in \\mathcal{S}}  p(s'|s,a)V^\\pi(s')  \\right), \\forall s \\in \\mathcal{S}\n",
    "$$ (v_expansion)\n",
    "\n",
    "この式変形は直感的に，「現在の状態の価値 ＝ （即時報酬 ＋ 次の状態の価値）の期待値」としたものであると捉えることが出来ます．\n",
    "\n",
    "同様の式変形を行動価値関数に関しても適用できます．\n",
    "\n",
    "$$Q^\\pi(s,a) &= \\underE{\\pi}{G_t | S_t = s, A_t = a}\\\\\n",
    "&= \\underE{\\pi}{R_t + \\gamma G_{t+1} | S_t = s, A_t = a}\\\\\n",
    "&= r(s,a) + \\gamma \\sum_{s' \\in \\mathcal{S}} p(s'|s,a) \\sum_{a' \\in \\mathcal{A}} \\pi(a'|s') Q^\\pi(s', a'), \\forall s \\in \\mathcal{S}, a \\in \\mathcal{A}$$ (q_expansion)\n",
    "\n",
    "\n",
    "これらの式変形より，$V^\\pi$は関数$v : \\mathcal{S} \\rightarrow \\mathbb{R}$に関する方程式\n",
    "\n",
    "\n",
    "$$v(s)\n",
    "=\\sum_{a \\in \\mathcal{A}} \\pi(a|s) \\left( r(s,a) + \\gamma \\sum_{s' \\in \\mathcal{S}} p(s'|s,a)v(s') \\right), \\forall s \\in \\mathcal{S}$$ (bellman_v)\n",
    "\n",
    "の解であることがわかり，\n",
    "$Q^\\pi$は関数$q : \\mathcal{S} \\times \\mathcal{A} \\rightarrow \\mathbb{R}$に関する方程式\n",
    "\n",
    "$$q(s,a)\n",
    "= r(s,a) + \\gamma \\sum_{s' \\in \\mathcal{S}} p(s'|s,a) \\sum_{a' \\in \\mathcal{A}} \\pi(a'|s') q(s', a'), \\forall s \\in \\mathcal{S}, a \\in \\mathcal{A}$$ (bellman_q)\n",
    "\n",
    "の解であることがわかります．\n",
    "方程式{eq}`bellman_v`,{eq}`bellman_q`はベルマン方程式と呼ばれています．\n",
    "\n",
    "これらの方程式の嬉しいところは，\n",
    "環境が既知であるならば，\n",
    "<font color='red'>$V^\\pi,Q^\\pi$を求める問題を方程式{eq}`bellman_v`,{eq}`bellman_q`の解を求める問題と捉えることが出来る</font>ことです．\n",
    "\n",
    "また，式{eq}`vpi qpi relation`の結果と式{eq}`q_expansion`より\n",
    "\n",
    "$$Q^\\pi(s,a) &= r(s,a) + \\gamma \\sum_{s' \\in \\mathcal{S}} p(s'|s,a) \\sum_{a' \\in \\mathcal{A}} \\pi(a'|s') Q^\\pi(s', a')\\\\\n",
    "& = r(s,a) + \\gamma \\sum_{s' \\in \\mathcal{S}} p(s'|s,a) V^\\pi(s'), \\forall s \\in \\mathcal{S}, a \\in \\mathcal{A}$$ (vpi qpi relation2)\n",
    "\n",
    "が成り立つ，つまり，$V^\\pi$が求まれば$Q^\\pi$も求まるため本節では主に価値関数についてのみ扱います．\n",
    "\n",
    "\n",
    "### ベルマン作用素\n",
    "\n",
    "ベルマン方程式をより深く分析するため，ベルマン方程式を基にした **ベルマン作用素(Bellman operator)** というものを導入します．\n",
    "\n",
    "ベルマン作用素は，ある関数$v : \\mathcal{S} \\rightarrow \\mathbb{R}$に対する写像$B_\\pi: \\mathbb{R}^{|\\mathcal{S}|} \\rightarrow \\mathbb{R}^{|\\mathcal{S}|}$であり，\n",
    "\n",
    "$$(B_\\pi(v))(s) := \\sum_{a \\in \\mathcal{A}} \\pi(a|s) \\left( r(s,a) + \\gamma \\sum_{s' \\in \\mathcal{S}}  p(s'|s,a)v(s')  \\right), \\forall s \\in \\mathcal{S}$$\n",
    "\n",
    "と定義されます．\n",
    "\n",
    "このベルマン作用素を用いて，式{eq}`bellman_v`のベルマン方程式を以下のように書き表せます．\n",
    "\n",
    "$$v = B_\\pi(v), \\forall s \\in \\mathcal{S}$$\n",
    "\n",
    "このように，ある作用素に対して$v = B(v)$のような関係を成り立たせる$v$を**不動点(fixed-point)** と呼びます．\n",
    "\n",
    "また，この作用素は同じ関数に k 回適用した場合，つまり$B( \\cdots B(B(v)))$とした場合$B^k(v)$のように表記します．\n",
    "\n",
    "このベルマン作用素に対して以下の命題が成り立ちます．\n",
    "\n",
    "```{prf:proposition}\n",
    ":label: b_pi_fixed_point\n",
    "\n",
    "ベルマン作用素$B_\\pi$は，\n",
    "\n",
    "$$v^* = B_\\pi(v^*), \\forall s \\in \\mathcal{S}$$\n",
    "\n",
    "を満たす唯一の不動点$v^*$を持つ．\n",
    "また，任意の有界関数$v_0:\\mathcal{S} \\rightarrow \\mathbb{R}$\n",
    "に対して$B_\\piを繰り返し適用すると漸近的に不動点に等しくなる．\n",
    "\n",
    "$$v^*(s) = \\lim_{k\\rightarrow \\infty} (B_\\pi^k(v_0))(s), \\forall s \\in \\mathcal{S}$$\n",
    "\n",
    "```\n",
    "\n",
    "```{prf:proof}\n",
    "まず，ベルマン作用素 $B_\\pi$ が最大ノルムに対して縮小写像であることを示す必要があります．\n",
    "ベルマン作用素 $B_\\pi$ が縮小写像であることを示すためには，任意の2つの関数 $v_1, v_2 : \\mathcal{S} \\rightarrow \\mathbb{R}$ に対して，$||B_\\pi(v_1) - B_\\pi(v_2)||_{\\infty} \\leq \\gamma ||v_1 - v_2||_{\\infty}$が成り立つことを示します．\n",
    "\n",
    "$$\n",
    "\\begin{eqnarray*}\n",
    "    &&||B_\\pi(v_1) - B_\\pi(v_2)||_{\\infty} \\\\\n",
    "    &=& \\max_{s\\in\\mathcal{S}} \\left| \\sum_{a \\in \\mathcal{A}} \\pi(a|s) \\left( r(s,a) + \\gamma \\sum_{s' \\in \\mathcal{S}}  p(s'|s,a)v_1(s')  \\right)\n",
    "    - \\sum_{a \\in \\mathcal{A}} \\pi(a|s) \\left( r(s,a) + \\gamma \\sum_{s' \\in \\mathcal{S}}  p(s'|s,a)v_2(s')  \\right)\\right|\\\\\n",
    "    &=& \\max_{s\\in\\mathcal{S}} \\left| \\sum_{a \\in \\mathcal{A}} \\pi(a|s) \\left( r(s,a) + \\gamma \\sum_{s' \\in \\mathcal{S}}  p(s'|s,a)v_1(s')\\ -  r(s,a) - \\gamma \\sum_{s' \\in \\mathcal{S}}  p(s'|s,a) v_2(s') \\right)\\right|\\\\\n",
    "    &=& \\gamma \\max_{s\\in\\mathcal{S}} \\left| \\sum_{a \\in \\mathcal{A}} \\pi(a|s) \\left(\\sum_{s' \\in \\mathcal{S}} p(s'|s,a) \\left(v_1(s') - v_2(s')\\right) \\right)\\right|\\\\\n",
    "    &\\leq& \\gamma \\max_{s\\in\\mathcal{S}, a\\in\\mathcal{A}} \\left| \\sum_{s' \\in \\mathcal{S}} p(s'|s,a) \\left(v_1(s') - v_2(s')\\right)\\right|\\\\\n",
    "    &\\leq& \\gamma \\max_{s\\in\\mathcal{S}, a\\in\\mathcal{A}} \\sum_{s' \\in \\mathcal{S}} p(s'|s,a) \\max_{s'\\in\\mathcal{S}} \\left| v_1(s') - v_2(s')\\right|\\\\\n",
    "    &=& \\gamma \\max_{s\\in\\mathcal{S}, a\\in\\mathcal{A}} \\sum_{s' \\in \\mathcal{S}} p(s'|s,a) || v_1 - v_2||_{\\infty}\\\\\n",
    "    &=& \\gamma  || v_1 - v_2||_{\\infty}\n",
    "\\end{eqnarray*}\n",
    "$$\n",
    "\n",
    "以上より，$B_\\pi$が縮小写像であることが示され，\n",
    "[バナッハの不動点定理](https://ja.wikipedia.org/wiki/%E3%83%90%E3%83%8A%E3%83%83%E3%83%8F%E3%81%AE%E4%B8%8D%E5%8B%95%E7%82%B9%E5%AE%9A%E7%90%86)より，\n",
    "この命題が示されます．\n",
    "```\n",
    "\n",
    "$V^\\pi$はベルマン作用素の不動点の一つであること，ベルマン作用素は不動点を一つしか持たないことより，$V^\\pi$はベルマン作用素の唯一の不動点(ベルマン方程式の唯一解)であると言えます．\n",
    "\n",
    "これらの命題より，環境の情報が既知である場合\n",
    "  (solve_bellman_operator)=\n",
    "  1. $v = B_\\pi(v), \\forall s \\in \\mathcal{S}$を直接解く\n",
    "  2. 任意の関数$v$に対して$B_\\pi$を繰り返し適用する\n",
    "\n",
    "の2通り方法で$V^\\pi$を得ることが出来ます．\n",
    "\n",
    "### 実装\n",
    "\n",
    "本節では，前節のコンセプトを基にした手法の実装を示し，\n",
    "実際に[FrozenLake](https://www.gymlibrary.ml/environments/toy_text/frozen_lake/)環境に適用してみます．\n"
   ]
  },
  {
   "cell_type": "code",
   "execution_count": 45,
   "metadata": {},
   "outputs": [],
   "source": [
    "import gym\n",
    "\n",
    "gym.logger.setLevel(gym.logger.DISABLED)  # Disable Logger\n",
    "\n",
    "env = gym.make(\"FrozenLake-v1\", desc=[\"SFFF\", \"FHFH\", \"FFFH\", \"HFFG\"], map_name=\"4x4\")"
   ]
  },
  {
   "cell_type": "code",
   "execution_count": 46,
   "metadata": {
    "tags": [
     "hide-input"
    ]
   },
   "outputs": [
    {
     "data": {
      "text/plain": [
       "<matplotlib.image.AxesImage at 0x7f36981c5580>"
      ]
     },
     "execution_count": 46,
     "metadata": {},
     "output_type": "execute_result"
    },
    {
     "data": {
      "image/png": "[encoded data removed]",
      "text/plain": [
       "<Figure size 432x288 with 1 Axes>"
      ]
     },
     "metadata": {
      "needs_background": "light"
     },
     "output_type": "display_data"
    }
   ],
   "source": [
    "%matplotlib inline\n",
    "import matplotlib.pyplot as plt\n",
    "\n",
    "env.reset()\n",
    "\n",
    "plt.imshow(env.render(mode='rgb_array'))"
   ]
  },
  {
   "attachments": {},
   "cell_type": "markdown",
   "metadata": {},
   "source": [
    "\n",
    "まずは，実装上扱いやすくするために，ベルマン方程式{eq}`bellman_v`を，行列形式(テーブル型)に変換してみます．\n",
    "状態空間$\\mathcal{S}$は有限であるため，\n",
    "関数$v : \\mathcal{S} \\rightarrow \\mathbb{R}$は，以下のようなベクトル$v \\in \\mathbb{R}^{|\\mathcal{S}|}$と等価であるとみなすことが出来ます．\n",
    "\n",
    "$$\n",
    "v = \\left(\n",
    "\\begin{array}{c}\n",
    "v(s_0)\\\\\n",
    "v(s_1)\\\\\n",
    "\\vdots\\\\\n",
    "v(s_{|\\mathcal{S}|})\n",
    "\\end{array}\n",
    "\\right),\\ \\mathcal{S} = \\{s_0, s_1, \\cdots s_{|\\mathcal{S}|}\\}\n",
    "$$\n",
    "\n",
    "価値関数以外にも，環境の情報も行列形式にすることが可能です．報酬の期待値$g(s) = \\sum_{a \\in \\mathcal{A}} \\pi(a|s) r(s,a)$も価値関数と同様にベクトル$g \\in \\mathbb{R}^{|\\mathcal{S}|}$とします．\n",
    "\n",
    "$$\n",
    "g = \\left(\n",
    "\\begin{array}{c}\n",
    "g(s_0)\\\\\n",
    "g(s_1)\\\\\n",
    "\\vdots\\\\\n",
    "g(s_{|\\mathcal{S}|})\n",
    "\\end{array}\n",
    "\\right),\\ \\mathcal{S} = \\{s_0, s_1, \\cdots s_{|\\mathcal{S}|}\\}\n",
    "$$\n",
    "\n",
    "方策$\\pi$上で状態$s$から$s'$に遷移する確率$P_\\pi(s,s') = \\sum_{a \\in \\mathcal{A}} \\pi(a|s) p(s'|s,a)$を[確率行列](https://ja.wikipedia.org/wiki/%E7%A2%BA%E7%8E%87%E8%A1%8C%E5%88%97) $P_\\pi \\in \\mathbb{R}^{|\\mathcal{S}| \\times |\\mathcal{S}|}$とします．\n",
    "\n",
    "$$\n",
    "P_\\pi = \\left(\n",
    "\\begin{array}{ccc}\n",
    "    P_\\pi(s_0, s_0)               & \\cdots & P_\\pi(s_0, s_{|\\mathcal{S}|})               \\\\\n",
    "    \\vdots                        & \\ddots & \\vdots                                      \\\\\n",
    "    P_\\pi(s_{|\\mathcal{S}|}, s_0) & \\cdots & P_\\pi(s_{|\\mathcal{S}|}, s_{|\\mathcal{S}|})\n",
    "  \\end{array}\n",
    "\\right),\\ \\mathcal{S} = \\{s_0, s_1, \\cdots s_{|\\mathcal{S}|}\\}\n",
    "$$\n",
    "\n",
    "これらの行列を用いてベルマン方程式{eq}`bellman_v`を書き表すと，\n",
    "\n",
    "$$v = g + \\gamma P_\\pi v$$ (bellman_eq_matrix_ver)\n",
    "\n",
    "となり，一般的な行列計算として実装上でも扱いやすい形となります．\n",
    "\n",
    "[FrozenLake](https://www.gymlibrary.ml/environments/toy_text/frozen_lake/)環境において，行動を一様ランダムに選択，つまり$\\pi(a|s) = \\frac{1}{4}$とした場合の環境情報$g, P_\\pi$を求めると以下のようになります．\n"
   ]
  },
  {
   "cell_type": "code",
   "execution_count": 47,
   "metadata": {
    "tags": []
   },
   "outputs": [],
   "source": [
    "import numpy as np\n",
    "\n",
    "np.set_printoptions(threshold=16)\n",
    "\n",
    "state_size = env.observation_space.n\n",
    "action_size = env.action_space.n\n",
    "\n",
    "\n",
    "# FrozenLakeの内部実装を参考に，状態遷移関数を作成する\n",
    "def p(sp, s, a):\n",
    "    \"\"\"状態遷移関数\n",
    "\n",
    "    Args:\n",
    "        sp : 次の状態 s'\n",
    "        s  : 現在の状態 s\n",
    "        a  : 現在の状態で選択する行動 a\n",
    "\n",
    "    Returns:\n",
    "        sでaを選択した後s'に遷移する確率\n",
    "    \"\"\"\n",
    "    transition = env.P[s][a]\n",
    "    prob = 0.0\n",
    "    for t in transition:\n",
    "        if t[1] == sp:\n",
    "            prob += t[0]\n",
    "    return prob\n",
    "\n",
    "# FrozenLakeの内部実装を参考に，報酬関数を作成する\n",
    "def r(s, a):\n",
    "    \"\"\"報酬関数\n",
    "\n",
    "    Args:\n",
    "        s  : 現在の状態 s\n",
    "        a  : 現在の状態で選択する行動 a\n",
    "\n",
    "    Returns:\n",
    "        報酬r(s,a)\n",
    "    \"\"\"\n",
    "    transition = env.P[s][a]\n",
    "    reward = 0.0\n",
    "    for t in transition:\n",
    "        reward += t[0] * t[2]\n",
    "    return reward\n",
    "\n",
    "\n",
    "def pi(a, s):\n",
    "    \"\"\"方策\"\"\"\n",
    "    return 1.0 / 4.0\n",
    "\n",
    "\n",
    "P = np.zeros((state_size, state_size))\n",
    "\n",
    "for s in range(state_size):\n",
    "    for sp in range(state_size):\n",
    "        P[s, sp] = np.sum([pi(a, s) * p(sp, s, a) for a in range(action_size)])\n",
    "\n",
    "g = np.zeros((state_size,))\n",
    "\n",
    "for s in range(state_size):\n",
    "    g[s] = np.sum([pi(a, s) * r(s, a) for a in range(action_size)])\n"
   ]
  },
  {
   "cell_type": "code",
   "execution_count": 48,
   "metadata": {
    "tags": [
     "remove-input"
    ]
   },
   "outputs": [
    {
     "name": "stdout",
     "output_type": "stream",
     "text": [
      "P = \n",
      "[[0.5  0.25 0.   ... 0.   0.   0.  ]\n",
      " [0.25 0.25 0.25 ... 0.   0.   0.  ]\n",
      " [0.   0.25 0.25 ... 0.   0.   0.  ]\n",
      " ...\n",
      " [0.   0.   0.   ... 0.25 0.25 0.  ]\n",
      " [0.   0.   0.   ... 0.25 0.25 0.25]\n",
      " [0.   0.   0.   ... 0.   0.   1.  ]]\n"
     ]
    }
   ],
   "source": [
    "print(f\"P = \\n{P}\")\n"
   ]
  },
  {
   "cell_type": "code",
   "execution_count": 49,
   "metadata": {
    "tags": [
     "remove-input"
    ]
   },
   "outputs": [
    {
     "name": "stdout",
     "output_type": "stream",
     "text": [
      "g = \n",
      "[0.   0.   0.   0.   0.   0.   0.   0.   0.   0.   0.   0.   0.   0.\n",
      " 0.25 0.  ]\n"
     ]
    }
   ],
   "source": [
    "print(f\"g = \\n{g}\")\n"
   ]
  },
  {
   "attachments": {},
   "cell_type": "markdown",
   "metadata": {},
   "source": [
    "これらをもとに[前述の 2 つの手法](solve_bellman_operator)を用いて，価値関数を求めていきます．\n"
   ]
  },
  {
   "attachments": {},
   "cell_type": "markdown",
   "metadata": {},
   "source": [
    "まずは，ベルマン方程式を直接解く手法により，価値関数を求めます．\n",
    "式{eq}`bellman_eq_matrix_ver`の方程式の解は\n",
    "\n",
    "$$v = (I - \\gamma P_\\pi)^{-1}g$$\n",
    "\n",
    "となるため，この式を用いて解を求めます．\n"
   ]
  },
  {
   "cell_type": "code",
   "execution_count": 50,
   "metadata": {},
   "outputs": [
    {
     "name": "stdout",
     "output_type": "stream",
     "text": [
      "v1 =\n",
      "[ 1.23561373e-02  1.04244610e-02  1.93384359e-02  9.47774828e-03\n",
      "  1.47870516e-02 -2.28588108e-16  3.88944494e-02 -6.52373983e-16\n",
      "  3.26024740e-02  8.43376421e-02  1.37810854e-01  0.00000000e+00\n",
      " -2.05408145e-16  1.70344822e-01  4.33579442e-01  0.00000000e+00]\n"
     ]
    }
   ],
   "source": [
    "GAMMA = 0.99  # 割引率\n",
    "v1 = np.linalg.inv(np.eye(state_size, state_size) - GAMMA * P) @ g\n",
    "\n",
    "print(f\"v1 =\\n{v1}\")\n"
   ]
  },
  {
   "attachments": {},
   "cell_type": "markdown",
   "metadata": {},
   "source": [
    "次に，ベルマン作用素を繰り返し適用する手法を実装します．\n",
    "任意の関数`v2`(ここではゼロで初期化)に$B_\\pi$を繰り返し適用し，価値関数を求めると以下のようになります．\n"
   ]
  },
  {
   "cell_type": "code",
   "execution_count": 51,
   "metadata": {},
   "outputs": [
    {
     "name": "stdout",
     "output_type": "stream",
     "text": [
      "v2 =\n",
      "[0.01235348 0.01042258 0.01933677 0.00947646 0.01478549 0.\n",
      " 0.0388938  0.         0.03260156 0.08433709 0.13781037 0.\n",
      " 0.         0.17034441 0.43357905 0.        ]\n"
     ]
    }
   ],
   "source": [
    "v2 = np.zeros((state_size,))  # 価値関数の初期値\n",
    "\n",
    "v2_log = [v2]  # ログ保存用のリスト\n",
    "\n",
    "for _ in range(50):\n",
    "    v2 = g + GAMMA * P @ v2  # ベルマン作用素により更新\n",
    "    v2_log.append(v2)  # ログを保存\n",
    "\n",
    "print(f\"v2 =\\n{v2}\")\n"
   ]
  },
  {
   "attachments": {},
   "cell_type": "markdown",
   "metadata": {},
   "source": [
    "2 つの手法で求めた解を比べると以下のようになります．\n"
   ]
  },
  {
   "cell_type": "code",
   "execution_count": 52,
   "metadata": {
    "tags": [
     "hide-input"
    ]
   },
   "outputs": [
    {
     "data": {
      "image/png": "[encoded data removed]",
      "text/plain": [
       "<Figure size 720x576 with 16 Axes>"
      ]
     },
     "metadata": {
      "needs_background": "light"
     },
     "output_type": "display_data"
    }
   ],
   "source": [
    "v2_log = np.array(v2_log)\n",
    "\n",
    "plt.figure(figsize=(10, 8))\n",
    "\n",
    "for i in range(state_size):\n",
    "    plt.subplot(4, 4, i + 1)\n",
    "    plt.plot(v2_log[:, i])\n",
    "    plt.plot([v1[i] for _ in v2_log[:, i]])\n",
    "    if abs(v1[i]) < 1e-5:\n",
    "        plt.ylim(-0.01, 0.01)\n",
    "    else:\n",
    "        plt.ylim(0.0, v1[i] * 1.2)\n",
    "    plt.title(f\"s = {i}\")\n",
    "\n",
    "plt.tight_layout()\n"
   ]
  },
  {
   "attachments": {},
   "cell_type": "markdown",
   "metadata": {},
   "source": [
    "(bellman_opt_eq)=\n",
    "## ベルマン最適方程式\n",
    "\n",
    "これまでは，任意の方策に対する価値関数/ベルマン方程式を見てきました．\n",
    "本章では，これまで紹介してきたものを用いて **最適方策** を導入していきます．\n",
    "\n",
    "### 最適方策\n",
    "\n",
    "最適方策は以下のように定義されます．\n",
    "\n",
    "```{prf:definition}\n",
    ":label: optimal_policy\n",
    "\n",
    "任意の初期状態$s \\in \\mathcal{S}$からの期待リターンを最大化する方策$\\pi^*$を最適方策と呼ぶ．\n",
    "最適方策$\\pi^*$の価値関数$V^{\\pi^*}(s) = V^*(s)$は任意の方策$\\pi$に対して以下が成り立つ\n",
    "\n",
    "$$V^*(s) \\geq V^\\pi(s),\\ \\forall s$$\n",
    "\n",
    "```\n",
    "\n",
    "また，最適方策の価値関数 $V^{\\pi^*}(s) = V^*(s)$ を最適価値関数と呼びます．\n",
    "この最適方策の定義は，全ての初期状態からの期待リターンを最大化するものであり，\n",
    "単一の初期分布からの期待リターンを評価関数とし，それを最大化するだけではないのです．\n",
    "しかし，このような条件を満たす最適方策は本当に存在するのでしょうか？\n",
    "結論から言うと，最適方策は存在し(これは複数存在する可能性あり)，それらは一意の最適価値関数を持ちます．\n",
    "\n",
    "以下それを説明していきます．\n",
    "\n",
    "\n",
    "### ベルマン最適方程式\n",
    "\n",
    "```{prf:proposition} 方策の改善\n",
    ":label: policy_improvement\n",
    "\n",
    "任意の方策$\\pi$に対して，\n",
    "\n",
    "$$\\pi'(a|s) = \\delta_{a,\\mu(s)},\\ \\ \\text{where }\n",
    "\\mu(s) = \\argmax_{a} Q^\\pi(s,a)$$\n",
    "\n",
    "とした場合，\n",
    "\n",
    "$$V^{\\pi'}(s) \\geq V^\\pi(s), \\forall s$$\n",
    "\n",
    "となる．\n",
    "\n",
    "```\n",
    "\n",
    "```{prf:proof}\n",
    "\n",
    "任意の$s\\in\\mathcal{S}$に対して\n",
    "\n",
    "$$\n",
    "V^\\pi(s) &\\leq Q^\\pi(s,\\mu(s))\\\\\n",
    "&=\\underE{}{R_t + \\gamma V^\\pi(S_{t+1})  |  S_t=s, A_t = \\mu(s)}\\\\\n",
    "&=\\underE{\\pi'}{R_t + \\gamma V^\\pi(S_{t+1}) |  S_t=s}\\\\\n",
    "&\\leq \\underE{\\pi'}{R_t + \\gamma Q^\\pi(S_{t+1}, \\mu(S_{t+1}))  |  S_t=s}\\\\\n",
    "&=\\underE{\\pi'}{R_t + \\gamma \\underE{}{R_{t+1} + \\gamma V^\\pi(S_{t+2}) | S_{t+1}, A_{t+1} = \\mu(S_{t+1}) }  |  S_t=s}\\\\\n",
    "&= \\underE{\\pi'}{R_t + \\gamma R_{t+1} + \\gamma^2 V^\\pi(S_{t+2}) |  S_t=s}\\\\\n",
    "&\\vdots\\\\\n",
    "&= \\underE{\\pi'}{R_t + \\gamma R_{t+1} + \\gamma^2 R_{t+2} + \\gamma^3 R_{t+3} + \\cdots | S_t = s }\\\\\n",
    "&= V^{\\pi'}(s)\n",
    "$$\n",
    "\n",
    "が成り立つため，{prf:ref}`policy_improvement`は成立する．\n",
    "\n",
    "```\n",
    "\n",
    "{prf:ref}`policy_improvement`より，$\\pi$を$\\pi'(a|s) = \\delta_{a,\\mu(s)}$と更新した際，$\\pi'$は$\\pi$より良くなることがわかります．\n",
    "また，状態空間/行動空間が有限であるため方策も有限です．\n",
    "そのため，方策を改善し続けると，いつかはそれ以上改善しない方策にたどり着き，その方策の価値関数$v^*$に対して\n",
    "\n",
    "$$\n",
    "v^*(s) &= \\max_{a \\in \\mathcal{A}} q^*(s,a)\\\\\n",
    "&= \\max_{a\\in\\mathcal{A}} \\left(r(s,a) + \\gamma \\sum_{s' \\in \\mathcal{S}} p(s'|s,a) v^*(s') \\right), \\forall s \\in \\mathcal{S}$$ (bellman_opt_v)\n",
    "\n",
    "が成り立つことがわかります．また，行動価値関数に関しても，\n",
    "\n",
    "$$q^*(s,a) &= r(s,a) + \\gamma \\sum_{s' \\in \\mathcal{S}} p(s'|s,a) v^*(s')\\\\\n",
    "&= r(s,a) + \\gamma \\sum_{s' \\in \\mathcal{S}} p(s'|s,a) \\max_{a' \\in \\mathcal{A}} q^*(s',a'), \\forall s \\in \\mathcal{S}, a \\in \\mathcal{A}$$ (bellman_opt_q)\n",
    "\n",
    "が成り立ちます．式{eq}`bellman_opt_v`,{eq}`bellman_opt_q`は最適ベルマン方程式と呼ばれます．\n",
    "{prf:ref}`optimal_policy`から，最適価値関数も最適ベルマン方程式を満たします．\n",
    "\n",
    "また，これら方程式を満たす価値関数に対して，\n",
    "\n",
    "$$\\pi^*(a|s) = \\delta_{a,\\mu^*(s)},\\ \\ \\text{where }\n",
    "\\mu^*(s) = \\argmax_{a} q^*(s,a)\n",
    "$$ (opt_policy)\n",
    "\n",
    "とした方策の価値関数は$v^*$になります．\n",
    "\n",
    "\n",
    "### ベルマン最適作用素\n",
    "\n",
    "前節で最適価値関数がベルマン最適方程式を満たすことを示しました．\n",
    "本節では前章と同様にベルマン最適方程式をもとにした， **ベルマン最適作用素(Bellman optimality operator)** を導入します．\n",
    "\n",
    "ベルマン最適作用素は，ある関数$v : \\mathcal{S} \\rightarrow \\mathbb{R}$に対する写像$B_*: \\mathbb{R}^{|\\mathcal{S}|} \\rightarrow \\mathbb{R}^{|\\mathcal{S}|}$であり，\n",
    "\n",
    "$$(B_*(v))(s) := \\max_{a\\in\\mathcal{A}} \\left(r(s,a) + \\gamma \\sum_{s' \\in \\mathcal{S}} p(s'|s,a) v(s') \\right), \\forall s \\in \\mathcal{S}$$\n",
    "\n",
    "と定義されます．\n",
    "\n",
    "このベルマン最適作用素を用いて，式{eq}`bellman_opt_v`のベルマン最適方程式を以下のように書き表せます．\n",
    "\n",
    "$$v = B_*(v), \\forall s \\in \\mathcal{S}$$\n",
    "\n",
    "このベルマン作用素に対して以下の命題が成り立ちます．\n",
    "\n",
    "```{prf:proposition}\n",
    ":label: bellman_opt_fixed_point\n",
    "\n",
    "ベルマン最適作用素$B_*$は，\n",
    "\n",
    "$$v^* = B_*(v^*), \\forall s \\in \\mathcal{S}$$\n",
    "\n",
    "を満たす唯一の不動点$v^*$を持つ．\n",
    "また，任意の有界関数$v_0:\\mathcal{S} \\rightarrow \\mathbb{R}$\n",
    "に対して$B_*$を繰り返し適用すると漸近的に不動点に等しくなる．\n",
    "\n",
    "$$v^*(s) = \\lim_{k\\rightarrow \\infty} (B_*^k(v_0))(s), \\forall s \\in \\mathcal{S}$$\n",
    "\n",
    "```\n",
    "\n",
    "```{prf:proof}\n",
    "まず，ベルマン最適作用素 $B_*$ が最大ノルムに対して縮小写像であることを示す必要があります．縮小写像とは，任意の2つの点を取ったとき，それらを写像によって移した後の距離が，元の距離以下になる写像を指します．\n",
    "\n",
    "ベルマン最適作用素 $B_*$ が縮小写像であることを示すためには，任意の2つの関数 $v_1, v_2 : \\mathcal{S} \\rightarrow \\mathbb{R}$ に対して，$||B_*(v_1) - B_*(v_2)||_{\\infty} \\leq \\gamma ||v_1 - v_2||_{\\infty}$が成り立つことを示します．\n",
    "\n",
    "$$\n",
    "\\begin{eqnarray*}\n",
    "    &&||B_*(v_1) - B_*(v_2)||_{\\infty} \\\\\n",
    "    &=& \\max_{s\\in\\mathcal{S}} \\left| \\max_{a\\in\\mathcal{A}} \\left(r(s,a) + \\gamma \\sum_{s' \\in \\mathcal{S}} p(s'|s,a)v_1(s') \\right)\n",
    "    - \\max_{a\\in\\mathcal{A}} \\left(r(s,a) + \\gamma \\sum_{s' \\in \\mathcal{S}} p(s'|s,a) v_2(s') \\right)\\right|\\\\\n",
    "    &\\leq& \\max_{s\\in\\mathcal{S}} \\left| \\max_{a\\in\\mathcal{A}} \\left(r(s,a) + \\gamma \\sum_{s' \\in \\mathcal{S}} p(s'|s,a) v_1(s')\\ -  r(s,a) - \\gamma \\sum_{s' \\in \\mathcal{S}} p(s'|s,a) v_2(s') \\right)\\right|\\\\\n",
    "    &=& \\gamma \\max_{s\\in\\mathcal{S}} \\left| \\max_{a\\in\\mathcal{A}} \\left(\\sum_{s' \\in \\mathcal{S}} p(s'|s,a) \\left(v_1(s') - v_2(s')\\right) \\right)\\right|\\\\\n",
    "    &\\leq& \\gamma \\max_{s\\in\\mathcal{S}, a\\in\\mathcal{A}} \\left| \\sum_{s' \\in \\mathcal{S}} p(s'|s,a) \\left(v_1(s') - v_2(s')\\right)\\right|\\\\\n",
    "    &\\leq& \\gamma \\max_{s\\in\\mathcal{S}, a\\in\\mathcal{A}} \\sum_{s' \\in \\mathcal{S}} p(s'|s,a) \\max_{s'\\in\\mathcal{S}} \\left| v_1(s') - v_2(s')\\right|\\\\\n",
    "    &=& \\gamma \\max_{s\\in\\mathcal{S}, a\\in\\mathcal{A}} \\sum_{s' \\in \\mathcal{S}} p(s'|s,a) || v_1 - v_2||_{\\infty}\\\\\n",
    "    &=& \\gamma  || v_1 - v_2||_{\\infty}\n",
    "\\end{eqnarray*}\n",
    "$$\n",
    "\n",
    "以上より，$B_*$が縮小写像であることが示され，\n",
    "[バナッハの不動点定理](https://ja.wikipedia.org/wiki/%E3%83%90%E3%83%8A%E3%83%83%E3%83%8F%E3%81%AE%E4%B8%8D%E5%8B%95%E7%82%B9%E5%AE%9A%E7%90%86)より，\n",
    "この命題が示されます．\n",
    "```\n",
    "\n",
    "この命題や，今までの議論をまとめると\n",
    "\n",
    "1. {prf:ref}`policy_improvement`により任意の方策を改善できる\n",
    "2. 方策が有限であることより，方策の改善を繰り返すとこれ以上改善できない方策に行き着く\n",
    "3. これ以上改善できない方策の価値関数はベルマン最適方程式を満たす\n",
    "4. {prf:ref}`bellman_opt_fixed_point`よりベルマン最適方程式の解は一意に定まる\n",
    "\n",
    "ことにより，\n",
    "\n",
    "1. 最適価値関数$V^*$はベルマン方程式の唯一解となる\n",
    "2. $\\pi^*(a|s) = \\delta_{a,\\mu^*(s)},\\ \\ \\text{where }\\mu^*(s) = \\argmax_{a} Q^*(s,a)$は最適方策となる\n",
    "\n",
    "ことがわかります．\n",
    "\n",
    "\n",
    "## 動的計画法\n",
    "\n",
    "**動的計画法(Dynamic Programing; DP)** とは，対象とするマルコフ過程の完全な情報を用いて最適方策を求める手法を指します．\n",
    "\n",
    "本章では[前章](bellman_opt_eq)をもとに動的計画法の一種である2つの手法，\n",
    "\n",
    "1. **価値反復(Value Iteration)**\n",
    "2. **方策反復(Policy Iteration)**\n",
    "\n",
    "を紹介します．\n",
    "\n",
    "### 価値反復\n",
    "\n",
    "この手法の基本的な方針は，\n",
    "\n",
    "- 式{eq}`bellman_opt_v`のベルマン最適方程式を解いて，\n",
    "- 式{eq}`opt_policy`により，最適価値関数から最適方策を導く\n",
    "\n",
    "というものです．\n",
    "まず最初のベルマン最適方程式の求解に関して，[ベルマン方程式を解く手法](solve_bellman_operator)と同様，直接解くか，任意の関数に$B_*$を繰り返し適用するかの2通りの手法が考えられます．\n",
    "しかし，ベルマン最適作用素は単純な線形変換ではなく$\\max_{a\\in\\mathcal{A}}\\cdots$と，最大値をとる操作があるため，方程式は直接解けません．\n",
    "なので$B_*$を繰り返し適用する方針で解を求めていきます．\n",
    "\n",
    "それでは，価値反復を[FrozenLake](https://www.gymlibrary.ml/environments/toy_text/frozen_lake/)に実装して見ましょう．\n",
    "\n",
    "まずは，ベルマン最適作用素を関数として実装します．"
   ]
  },
  {
   "cell_type": "code",
   "execution_count": 53,
   "metadata": {},
   "outputs": [],
   "source": [
    "def bellman_optimality_operator(v):\n",
    "    \"\"\"ベルマン最適作用素\n",
    "\n",
    "    Args:\n",
    "        v : 価値関数\n",
    "\n",
    "    Returns:\n",
    "        B*(v)\n",
    "    \"\"\"\n",
    "    q = np.zeros((state_size, action_size))  # 行動価値関数\n",
    "    for s in range(state_size):\n",
    "        for a in range(action_size):\n",
    "            q[s, a] = r(s, a) + GAMMA * np.sum(\n",
    "                [p(sp, s, a) * v[sp] for sp in range(state_size)]  # spは次状態s'を表す\n",
    "            )  # 行動価値関数を計算\n",
    "\n",
    "    return q.max(axis=1)  # 行動価値の最大値が\n"
   ]
  },
  {
   "attachments": {},
   "cell_type": "markdown",
   "metadata": {},
   "source": [
    "このベルマン作用素を任意の$v$(ここでは0で初期化)に繰り返し適用すると，最適価値関数が求まります．"
   ]
  },
  {
   "cell_type": "code",
   "execution_count": 54,
   "metadata": {},
   "outputs": [
    {
     "name": "stdout",
     "output_type": "stream",
     "text": [
      "v =\n",
      "[0.54202593 0.49880319 0.47069569 0.4568517  0.55845096 0.\n",
      " 0.35834807 0.         0.59179874 0.64307982 0.61520756 0.\n",
      " 0.         0.74172044 0.86283743 0.        ]\n"
     ]
    }
   ],
   "source": [
    "v = np.zeros((state_size,))\n",
    "\n",
    "for _ in range(1000):\n",
    "    v = bellman_optimality_operator(v)\n",
    "\n",
    "print(f\"v =\\n{v}\")\n"
   ]
  },
  {
   "attachments": {},
   "cell_type": "markdown",
   "metadata": {},
   "source": [
    "また，最適価値関数から，行動価値関数を作ることによって，最適方策(ここでは`mu`)を導けます．\n"
   ]
  },
  {
   "cell_type": "code",
   "execution_count": 55,
   "metadata": {},
   "outputs": [
    {
     "name": "stdout",
     "output_type": "stream",
     "text": [
      "q =\n",
      "[[0.54202593 0.52776243 0.52776243 0.52234217]\n",
      " [0.34347361 0.33419814 0.31993463 0.49880319]\n",
      " [0.43818949 0.43362098 0.4243455  0.47069569]\n",
      " ...\n",
      " [0.45698409 0.5295041  0.74172044 0.49695269]\n",
      " [0.73252259 0.86283743 0.82108818 0.78111957]\n",
      " [0.         0.         0.         0.        ]]\n",
      "mu =\n",
      "[0 3 3 3 0 0 0 0 3 1 0 0 0 2 1 0]\n"
     ]
    }
   ],
   "source": [
    "q = np.zeros((state_size, action_size))\n",
    "\n",
    "for s in range(state_size):\n",
    "    for a in range(action_size):\n",
    "        q[s, a] = r(s, a) + GAMMA * np.sum(\n",
    "            [p(sp, s, a) * v[sp] for sp in range(state_size)]\n",
    "        )\n",
    "\n",
    "mu = q.argmax(axis=1)\n",
    "\n",
    "print(f\"q =\\n{q}\")\n",
    "print(f\"mu =\\n{mu}\")\n"
   ]
  },
  {
   "attachments": {},
   "cell_type": "markdown",
   "metadata": {},
   "source": [
    "得られた方策は以下のようになります．"
   ]
  },
  {
   "cell_type": "code",
   "execution_count": 1,
   "metadata": {
    "tags": [
     "hide-input"
    ]
   },
   "outputs": [
    {
     "ename": "NameError",
     "evalue": "name 'mu' is not defined",
     "output_type": "error",
     "traceback": [
      "\u001b[0;31m---------------------------------------------------------------------------\u001b[0m",
      "\u001b[0;31mNameError\u001b[0m                                 Traceback (most recent call last)",
      "\u001b[1;32m/home/hisaki/workspace/ono-lab/rl-semi/day1/03bellman.ipynb Cell 22'\u001b[0m in \u001b[0;36m<cell line: 32>\u001b[0;34m()\u001b[0m\n\u001b[1;32m     <a href='vscode-notebook-cell:/home/hisaki/workspace/ono-lab/rl-semi/day1/03bellman.ipynb#ch0000027?line=28'>29</a>\u001b[0m     ax\u001b[39m.\u001b[39maxis(\u001b[39m\"\u001b[39m\u001b[39mequal\u001b[39m\u001b[39m\"\u001b[39m)\n\u001b[1;32m     <a href='vscode-notebook-cell:/home/hisaki/workspace/ono-lab/rl-semi/day1/03bellman.ipynb#ch0000027?line=29'>30</a>\u001b[0m     plt\u001b[39m.\u001b[39mshow()\n\u001b[0;32m---> <a href='vscode-notebook-cell:/home/hisaki/workspace/ono-lab/rl-semi/day1/03bellman.ipynb#ch0000027?line=31'>32</a>\u001b[0m plot_policy(mu)\n",
      "\u001b[0;31mNameError\u001b[0m: name 'mu' is not defined"
     ]
    }
   ],
   "source": [
    "def plot_policy(mu):\n",
    "    fig, ax = plt.subplots(figsize=(4, 4))\n",
    "    ax.set_xlim(-1, 9)\n",
    "    ax.set_ylim(-1, 9)\n",
    "\n",
    "    for i in range(5):\n",
    "        ax.plot([i * 2, i * 2], [0, 8], color=\"b\")\n",
    "        ax.plot([0, 8], [i * 2, i * 2], color=\"b\")\n",
    "\n",
    "    dx = [-1, 0, 1, 0]\n",
    "    dy = [0, -1, 0, 1]\n",
    "\n",
    "    for i in range(4):\n",
    "        for j in range(4):\n",
    "            n = i * 4 + j\n",
    "            x = 1 + j * 2\n",
    "            y = 7 - i * 2\n",
    "            a = mu[n]\n",
    "            ax.arrow(\n",
    "                x,\n",
    "                y,\n",
    "                dx[a],\n",
    "                dy[a],\n",
    "                head_width=0.3,\n",
    "                head_length=0.2,\n",
    "                length_includes_head=True,\n",
    "            )\n",
    "\n",
    "    ax.axis(\"equal\")\n",
    "    plt.show()\n",
    "\n",
    "plot_policy(mu)"
   ]
  },
  {
   "attachments": {},
   "cell_type": "markdown",
   "metadata": {},
   "source": [
    "### 方策反復\n",
    "\n",
    "この手法は，ベルマン最適方程式を直接解くのではなく，\n",
    "{prf:ref}`policy_improvement`を用いて，\n",
    "任意の決定的な初期方策を改善して最適方策に近づいていく手法です．\n",
    "ただし，方策を改善するためには，その方策の価値関数が必要なため，この手法は，\n",
    "\n",
    "1. 方策の価値関数を求める\n",
    "2. それを用いて方策を改善する\n",
    "\n",
    "という２つの処理を繰り返します．\n",
    "\n",
    "先程と同様[FrozenLake](https://www.gymlibrary.ml/environments/toy_text/frozen_lake/)に実装して見ましょう．\n",
    "\n",
    "まずは，方策(ここでは決定的方策$\\mu$)に対してベルマン方程式を解く関数を実装します．ここでは，式{eq}`bellman_eq_matrix_ver`を直接解く方針で価値関数を求めます．"
   ]
  },
  {
   "cell_type": "code",
   "execution_count": 56,
   "metadata": {},
   "outputs": [],
   "source": [
    "def solve_bellman_equation(mu):\n",
    "    \"\"\"ベルマン方程式を解いて価値関数を求める\n",
    "\n",
    "    Args:\n",
    "        mu : 決定的方策\n",
    "\n",
    "    Returns:\n",
    "        価値関数\n",
    "    \"\"\"\n",
    "    P = np.zeros((state_size, state_size))  # 確率行列\n",
    "    g = np.zeros((state_size,))  # 報酬ベクトル\n",
    "\n",
    "    # 報酬ベクトルと確率行列を求める\n",
    "    for s in range(state_size):\n",
    "        g[s] = r(s, mu[s])\n",
    "        for sp in range(state_size):\n",
    "            P[s, sp] = p(sp, s, mu[s])\n",
    "\n",
    "    A = np.eye(state_size, state_size) - GAMMA * P\n",
    "    b = g\n",
    "\n",
    "    # 線形方程式を解くことにより価値関数を求める．\n",
    "    return np.linalg.solve(A, b)\n"
   ]
  },
  {
   "attachments": {},
   "cell_type": "markdown",
   "metadata": {},
   "source": [
    "次に，求めた価値関数から，方策を改善する関数を実装します．"
   ]
  },
  {
   "cell_type": "code",
   "execution_count": 57,
   "metadata": {},
   "outputs": [],
   "source": [
    "def improve_policy(v):\n",
    "    \"\"\"方策の改善\n",
    "\n",
    "    Args:\n",
    "        v : 価値関数\n",
    "\n",
    "    Returns:\n",
    "        改善された方策\n",
    "    \"\"\"\n",
    "    q = np.zeros((state_size, action_size))  # 行動価値関数\n",
    "    for s in range(state_size):\n",
    "        for a in range(action_size):\n",
    "            q[s, a] = r(s, a) + GAMMA * np.sum(\n",
    "                [p(sp, s, a) * v[sp] for sp in range(state_size)]\n",
    "            )\n",
    "\n",
    "    return q.argmax(axis=1)  # 行動価値が最大となる行動を求める\n"
   ]
  },
  {
   "attachments": {},
   "cell_type": "markdown",
   "metadata": {},
   "source": [
    "これらをもとに任意の決定的方策を方策反復により更新すると以下のようになります．"
   ]
  },
  {
   "cell_type": "code",
   "execution_count": null,
   "metadata": {},
   "outputs": [],
   "source": [
    "for _ in range(100):\n",
    "    v = solve_bellman_equation(mu)\n",
    "    mu = improve_policy(v)\n",
    "\n",
    "print(f\"v =\\n{v}\")\n",
    "print(f\"mu =\\n{mu}\")\n"
   ]
  },
  {
   "attachments": {},
   "cell_type": "markdown",
   "metadata": {},
   "source": [
    "得られた方策は以下のようになります．"
   ]
  },
  {
   "cell_type": "code",
   "execution_count": null,
   "metadata": {},
   "outputs": [],
   "source": [
    "plot_policy(mu)"
   ]
  }
 ],
 "metadata": {
  "interpreter": {
   "hash": "97504645a1f23459c17c212274a0bcf9c19874fbce259200e47a4c8c54b7985d"
  },
  "kernelspec": {
   "display_name": "Python 3 (ipykernel)",
   "language": "python",
   "name": "python3"
  },
  "language_info": {
   "codemirror_mode": {
    "name": "ipython",
    "version": 3
   },
   "file_extension": ".py",
   "mimetype": "text/x-python",
   "name": "python",
   "nbconvert_exporter": "python",
   "pygments_lexer": "ipython3",
   "version": "3.8.10"
  }
 },
 "nbformat": 4,
 "nbformat_minor": 4
}
